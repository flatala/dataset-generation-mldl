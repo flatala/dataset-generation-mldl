{
 "cells": [
  {
   "cell_type": "code",
   "execution_count": 1,
   "metadata": {},
   "outputs": [],
   "source": [
    "from dataset import generate_dataset, load_dataset"
   ]
  },
  {
   "cell_type": "markdown",
   "metadata": {},
   "source": [
    "## CIFAR Base Example"
   ]
  },
  {
   "cell_type": "code",
   "execution_count": 7,
   "metadata": {},
   "outputs": [],
   "source": [
    "dataset_type = 'cifar'\n",
    "image_size = 256\n",
    "max_images = 100\n",
    "class_labels = [1, 2, 3, 4, 5, 6]"
   ]
  },
  {
   "cell_type": "code",
   "execution_count": 8,
   "metadata": {},
   "outputs": [
    {
     "name": "stdout",
     "output_type": "stream",
     "text": [
      "Files already downloaded and verified\n"
     ]
    }
   ],
   "source": [
    "base_images_by_class = load_dataset(dataset_type, class_labels, max_images=max_images, image_size=image_size)\n",
    "\n",
    "shape_class_map_train = {\n",
    "    'circle': [1],\n",
    "    'square': [2],\n",
    "    'triangle': [3]\n",
    "}\n",
    "\n",
    "shape_class_map_test = {\n",
    "    'circle': [3],\n",
    "    'square': [1],\n",
    "    'triangle': [2]\n",
    "}"
   ]
  },
  {
   "cell_type": "code",
   "execution_count": 9,
   "metadata": {},
   "outputs": [],
   "source": [
    "generate_dataset(base_images_by_class, shape_class_map_train, output_dir='./dataset_cifar_base/train', size=image_size, padding=50)\n",
    "generate_dataset(base_images_by_class, shape_class_map_test, output_dir='./dataset_cifar_base/test', size=image_size, padding=50)"
   ]
  },
  {
   "cell_type": "markdown",
   "metadata": {},
   "source": [
    "## Custom Base Dataset Example"
   ]
  },
  {
   "cell_type": "code",
   "execution_count": 2,
   "metadata": {},
   "outputs": [],
   "source": [
    "dataset_type = 'custom'\n",
    "image_size = 256\n",
    "train_images = 10000\n",
    "test_images = 1000\n",
    "\n",
    "class_labels = {\n",
    "    1: 'custom_images/zigzag',\n",
    "    2: 'custom_images/chequered',\n",
    "    3: 'custom_images/dots'\n",
    "}"
   ]
  },
  {
   "cell_type": "code",
   "execution_count": 3,
   "metadata": {},
   "outputs": [],
   "source": [
    "images_by_class = load_dataset(dataset_type, class_labels, max_images=test_images, image_size=image_size)\n",
    "\n",
    "shape_class_map_train = {\n",
    "    'circle': [1],\n",
    "    'square': [2],\n",
    "    'triangle': [3]\n",
    "}\n",
    "\n",
    "shape_class_map_test = {\n",
    "    'circle': [3],\n",
    "    'square': [1],\n",
    "    'triangle': [2]\n",
    "}"
   ]
  },
  {
   "cell_type": "code",
   "execution_count": 4,
   "metadata": {},
   "outputs": [],
   "source": [
    "generate_dataset(images_by_class, shape_class_map_train, output_dir='./dataset_custom_base/train', size=image_size, padding=50, num_samples= 2000, shape_scale_range=(0.3, 1.0), position_jitter=0.5)\n",
    "generate_dataset(images_by_class, shape_class_map_train, output_dir='./dataset_custom_base/test_same_backgrounds', size=image_size, padding=50, num_samples=200, shape_scale_range=(0.3, 1.0), position_jitter=0.5)\n",
    "generate_dataset(images_by_class, shape_class_map_test, output_dir='./dataset_custom_base/test_swapped_backgrounds', size=image_size, padding=50, num_samples=200, shape_scale_range=(0.3, 1.0), position_jitter=0.5)"
   ]
  },
  {
   "cell_type": "markdown",
   "metadata": {},
   "source": [
    "## Pattern Example"
   ]
  },
  {
   "cell_type": "code",
   "execution_count": 12,
   "metadata": {},
   "outputs": [],
   "source": [
    "pattern_settings = {\n",
    "    'stripes_label': {'pattern_type': 'stripes', 'colors': ((0, 0, 255), (255, 255, 255)), 'stripe_width': 15},\n",
    "    'dots_label': {'pattern_type': 'dots', 'colors': ((0, 0, 255), (255, 255, 255)), 'dot_radius': 3, 'spacing': 10},\n",
    "    'horizontal_stripes_label': {'pattern_type': 'horizontal_stripes', 'colors': ((0, 0, 255), (255, 255, 255)), 'stripe_width': 15}\n",
    "}\n",
    "\n",
    "\n",
    "images_by_class = load_dataset('pattern', ['stripes_label', 'dots_label', 'horizontal_stripes_label'], \n",
    "                               max_images=100, image_size=256, pattern_settings=pattern_settings)"
   ]
  },
  {
   "cell_type": "code",
   "execution_count": 13,
   "metadata": {},
   "outputs": [],
   "source": [
    "train_options = {\n",
    "    'circle': ['stripes_label'], \n",
    "    'triangle': ['dots_label'],\n",
    "    'square': ['horizontal_stripes_label']\n",
    "}\n",
    "\n",
    "test_options = {\n",
    "    'circle': ['dots_label'], \n",
    "    'triangle': ['horizontal_stripes_label'],\n",
    "    'square': ['stripes_label']\n",
    "}"
   ]
  },
  {
   "cell_type": "code",
   "execution_count": 14,
   "metadata": {},
   "outputs": [],
   "source": [
    "generate_dataset(images_by_class, train_options, output_dir='./dataset_pattern_base/train', size=256, padding=40, margin=16, num_samples=1000, shape_scale_range=(0.3, 1.0), position_jitter=0.5)\n",
    "generate_dataset(images_by_class, train_options, output_dir='./dataset_pattern_base/test_matched_patterns', size=256, padding=40, margin=16, num_samples=200, shape_scale_range=(0.3, 1.0), position_jitter=0.5)\n",
    "generate_dataset(images_by_class, test_options, output_dir='./dataset_pattern_base/test_swapped_patterns', size=256, padding=40, margin=16, num_samples=200, shape_scale_range=(0.3, 1.0), position_jitter=0.5)"
   ]
  }
 ],
 "metadata": {
  "kernelspec": {
   "display_name": "nlp",
   "language": "python",
   "name": "python3"
  },
  "language_info": {
   "codemirror_mode": {
    "name": "ipython",
    "version": 3
   },
   "file_extension": ".py",
   "mimetype": "text/x-python",
   "name": "python",
   "nbconvert_exporter": "python",
   "pygments_lexer": "ipython3",
   "version": "3.10.12"
  }
 },
 "nbformat": 4,
 "nbformat_minor": 2
}
