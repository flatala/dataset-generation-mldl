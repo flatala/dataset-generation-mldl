{
 "cells": [
  {
   "cell_type": "code",
   "execution_count": 1,
   "metadata": {},
   "outputs": [],
   "source": [
    "from dataset import generate_dataset, load_dataset"
   ]
  },
  {
   "cell_type": "markdown",
   "metadata": {},
   "source": [
    "## MNIST Base Example"
   ]
  },
  {
   "cell_type": "code",
   "execution_count": 6,
   "metadata": {},
   "outputs": [],
   "source": [
    "dataset_type = 'mnist'\n",
    "image_size = 256\n",
    "max_images = 100\n",
    "class_labels = [1, 2, 3, 4, 5, 6]"
   ]
  },
  {
   "cell_type": "code",
   "execution_count": 7,
   "metadata": {},
   "outputs": [],
   "source": [
    "base_images_by_class = load_dataset(dataset_type, class_labels, max_images=max_images, image_size=image_size)\n",
    "\n",
    "shape_class_map_train = {\n",
    "    'circle': [1, 2],\n",
    "    'square': [3, 4],\n",
    "    'triangle': [5, 6]\n",
    "}\n",
    "\n",
    "shape_class_map_test = {\n",
    "    'circle': [3, 5],\n",
    "    'square': [2, 6],\n",
    "    'triangle': [4, 1]\n",
    "}"
   ]
  },
  {
   "cell_type": "code",
   "execution_count": 9,
   "metadata": {},
   "outputs": [],
   "source": [
    "generate_dataset(base_images_by_class, shape_class_map_train, output_dir='./dataset_mnist_base/train', size=image_size, padding=50)\n",
    "generate_dataset(base_images_by_class, shape_class_map_test, output_dir='./dataset_mnist_base/test', size=image_size, padding=50)"
   ]
  },
  {
   "cell_type": "markdown",
   "metadata": {},
   "source": [
    "## CIFAR Base Example"
   ]
  },
  {
   "cell_type": "code",
   "execution_count": 10,
   "metadata": {},
   "outputs": [],
   "source": [
    "dataset_type = 'cifar'\n",
    "image_size = 256\n",
    "max_images = 100\n",
    "class_labels = [1, 2, 3, 4, 5, 6]"
   ]
  },
  {
   "cell_type": "code",
   "execution_count": 11,
   "metadata": {},
   "outputs": [
    {
     "name": "stdout",
     "output_type": "stream",
     "text": [
      "Files already downloaded and verified\n"
     ]
    }
   ],
   "source": [
    "base_images_by_class = load_dataset(dataset_type, class_labels, max_images=max_images, image_size=image_size)\n",
    "\n",
    "shape_class_map_train = {\n",
    "    'circle': [1, 2],\n",
    "    'square': [3, 4],\n",
    "    'triangle': [5, 6]\n",
    "}\n",
    "\n",
    "shape_class_map_test = {\n",
    "    'circle': [3, 5],\n",
    "    'square': [2, 6],\n",
    "    'triangle': [4, 1]\n",
    "}"
   ]
  },
  {
   "cell_type": "code",
   "execution_count": 12,
   "metadata": {},
   "outputs": [],
   "source": [
    "generate_dataset(base_images_by_class, shape_class_map_train, output_dir='./dataset_cifar_base/train', size=image_size, padding=50)\n",
    "generate_dataset(base_images_by_class, shape_class_map_test, output_dir='./dataset_cifar_base/test', size=image_size, padding=50)"
   ]
  },
  {
   "cell_type": "markdown",
   "metadata": {},
   "source": [
    "## Custom Base Dataset Example"
   ]
  },
  {
   "cell_type": "code",
   "execution_count": null,
   "metadata": {},
   "outputs": [],
   "source": [
    "dataset_type = 'custom'\n",
    "image_size = 256\n",
    "max_images = 100\n",
    "\n",
    "class_labels = {\n",
    "    1: '/path/to/class1_images',\n",
    "    2: '/path/to/class2_images',\n",
    "    3: '/path/to/class3_images'\n",
    "}"
   ]
  },
  {
   "cell_type": "code",
   "execution_count": null,
   "metadata": {},
   "outputs": [],
   "source": [
    "base_images_by_class = load_dataset(dataset_type, class_labels, max_images=max_images, image_size=image_size)\n",
    "\n",
    "shape_class_map_train = {\n",
    "    'circle': [1],\n",
    "    'square': [2],\n",
    "    'triangle': [3]\n",
    "}\n",
    "\n",
    "shape_class_map_test = {\n",
    "    'circle': [3],\n",
    "    'square': [1],\n",
    "    'triangle': [2]\n",
    "}"
   ]
  },
  {
   "cell_type": "code",
   "execution_count": null,
   "metadata": {},
   "outputs": [],
   "source": [
    "generate_dataset(base_images_by_class, shape_class_map_train, output_dir='./dataset_custom_base/train', size=image_size, padding=50)\n",
    "generate_dataset(base_images_by_class, shape_class_map_test, output_dir='./dataset_custom_base/test', size=image_size, padding=50)"
   ]
  }
 ],
 "metadata": {
  "kernelspec": {
   "display_name": "nlp",
   "language": "python",
   "name": "python3"
  },
  "language_info": {
   "codemirror_mode": {
    "name": "ipython",
    "version": 3
   },
   "file_extension": ".py",
   "mimetype": "text/x-python",
   "name": "python",
   "nbconvert_exporter": "python",
   "pygments_lexer": "ipython3",
   "version": "3.10.12"
  }
 },
 "nbformat": 4,
 "nbformat_minor": 2
}
